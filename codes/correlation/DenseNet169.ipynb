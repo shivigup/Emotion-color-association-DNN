{
 "cells": [
  {
   "cell_type": "code",
   "execution_count": 2,
   "metadata": {
    "colab": {},
    "colab_type": "code",
    "executionInfo": {
     "elapsed": 4535,
     "status": "ok",
     "timestamp": 1599579723815,
     "user": {
      "displayName": "Shashi Kant",
      "photoUrl": "https://lh3.googleusercontent.com/a-/AOh14GiHv2woo7B1czb0XKsLBEOsgMWsuYITOryCdNNv7A=s64",
      "userId": "09783338171816410510"
     },
     "user_tz": -330
    },
    "id": "KVpizesFCowb"
   },
   "outputs": [],
   "source": [
    "import numpy as np\n",
    "import tensorflow as tf\n",
    "import scipy\n",
    "from tensorflow import keras\n",
    "from tensorflow.keras import layers\n",
    "\n",
    "from keras.preprocessing.image import load_img\n",
    "from keras.preprocessing.image import img_to_array\n",
    "\n",
    "from tensorflow.keras.applications.densenet import DenseNet169\n",
    "from keras.applications.densenet import preprocess_input\n",
    "\n",
    "import matplotlib.pyplot as plt\n",
    "from scipy import stats\n",
    "\n",
    "from tqdm.notebook import tqdm"
   ]
  },
  {
   "cell_type": "markdown",
   "metadata": {
    "colab_type": "text",
    "id": "f4U93p9iqX_6"
   },
   "source": [
    "## Extracting features from VGG16"
   ]
  },
  {
   "cell_type": "code",
   "execution_count": 3,
   "metadata": {
    "colab": {
     "base_uri": "https://localhost:8080/",
     "height": 51
    },
    "colab_type": "code",
    "executionInfo": {
     "elapsed": 16923,
     "status": "ok",
     "timestamp": 1599579736212,
     "user": {
      "displayName": "Shashi Kant",
      "photoUrl": "https://lh3.googleusercontent.com/a-/AOh14GiHv2woo7B1czb0XKsLBEOsgMWsuYITOryCdNNv7A=s64",
      "userId": "09783338171816410510"
     },
     "user_tz": -330
    },
    "id": "1M4GZzmBk2XJ",
    "outputId": "57ebb58c-43af-4d4e-d5b8-edc6dfad4177"
   },
   "outputs": [
    {
     "name": "stdout",
     "output_type": "stream",
     "text": [
      "Downloading data from https://storage.googleapis.com/tensorflow/keras-applications/densenet/densenet169_weights_tf_dim_ordering_tf_kernels.h5\n",
      "58548224/58541896 [==============================] - 1s 0us/step\n"
     ]
    }
   ],
   "source": [
    "img_size = 224\n",
    "densenet = DenseNet169(weights='imagenet', include_top=True, pooling='max', input_shape = (img_size, img_size, 3))"
   ]
  },
  {
   "cell_type": "code",
   "execution_count": 4,
   "metadata": {
    "colab": {},
    "colab_type": "code",
    "executionInfo": {
     "elapsed": 16924,
     "status": "ok",
     "timestamp": 1599579736216,
     "user": {
      "displayName": "Shashi Kant",
      "photoUrl": "https://lh3.googleusercontent.com/a-/AOh14GiHv2woo7B1czb0XKsLBEOsgMWsuYITOryCdNNv7A=s64",
      "userId": "09783338171816410510"
     },
     "user_tz": -330
    },
    "id": "xFFpLJ4FNLY9"
   },
   "outputs": [],
   "source": [
    "op = densenet.get_layer('avg_pool').output\n",
    "ip = densenet.input\n",
    "\n",
    "basemodel = keras.Model(\n",
    "    inputs=ip,\n",
    "    outputs=op,\n",
    ")\n",
    "\n",
    "basemodel.trainable=False"
   ]
  },
  {
   "cell_type": "code",
   "execution_count": 5,
   "metadata": {
    "colab": {},
    "colab_type": "code",
    "executionInfo": {
     "elapsed": 40057,
     "status": "ok",
     "timestamp": 1599579759352,
     "user": {
      "displayName": "Shashi Kant",
      "photoUrl": "https://lh3.googleusercontent.com/a-/AOh14GiHv2woo7B1czb0XKsLBEOsgMWsuYITOryCdNNv7A=s64",
      "userId": "09783338171816410510"
     },
     "user_tz": -330
    },
    "id": "kQPMWv1pqmeP"
   },
   "outputs": [],
   "source": [
    "images = np.empty((50, img_size, img_size, 3))\n",
    "for i in range(50):\n",
    "  image = load_img(\"data/\" + str(i+1) +\".jpg\", target_size=(img_size, img_size))\n",
    "  image = img_to_array(image)\n",
    "\n",
    "  for j in range(img_size):\n",
    "    for k in range(img_size):\n",
    "      g = (image[j,k,0] + image[j,k,1] + image[j,k,2])/3\n",
    "      image[j,k,0] = g\n",
    "      image[j,k,1] = g\n",
    "      image[j,k,2] = g\n",
    "\n",
    "  images[i,:,:,:] = image\n",
    "\n",
    "images = preprocess_input(images)\n",
    "features = basemodel.predict(images)\n",
    "\n",
    "colors = np.empty((5, img_size, img_size, 3))\n",
    "for i in range(5):\n",
    "  image = load_img(\"data/C\" + str(i) + \".png\", target_size=(img_size, img_size))\n",
    "  image = img_to_array(image)\n",
    "  colors[i,:,:,:] = image\n",
    "\n",
    "colors = preprocess_input(colors)\n",
    "colorfeatures = basemodel.predict(colors)\n",
    "\n",
    "features = features.reshape(50,-1)\n",
    "colorfeatures = colorfeatures.reshape(5,-1)\n",
    "\n",
    "data = np.genfromtxt('data/bandw.csv', skip_header = 6, delimiter=',')\n",
    "humanpred = np.zeros((50,5))\n",
    "for i in range(50):\n",
    "  for j in range(56):\n",
    "    color = int(data[j, i]);\n",
    "    humanpred[i, color] = humanpred[i, color]+1\n",
    "\n",
    "prob = humanpred/56"
   ]
  },
  {
   "cell_type": "code",
   "execution_count": 6,
   "metadata": {
    "colab": {},
    "colab_type": "code",
    "executionInfo": {
     "elapsed": 40057,
     "status": "ok",
     "timestamp": 1599579759355,
     "user": {
      "displayName": "Shashi Kant",
      "photoUrl": "https://lh3.googleusercontent.com/a-/AOh14GiHv2woo7B1czb0XKsLBEOsgMWsuYITOryCdNNv7A=s64",
      "userId": "09783338171816410510"
     },
     "user_tz": -330
    },
    "id": "3o4bRkBQ2TwJ"
   },
   "outputs": [],
   "source": [
    "inputimages = np.zeros((250,features.shape[1]))\n",
    "inputcolors = np.zeros((250,features.shape[1]))\n",
    "outputprob = np.zeros((250))\n",
    "\n",
    "for i in range(50):\n",
    "  for j in range(5):\n",
    "    inputimages[5*i+j,:] = features[i,:]\n",
    "\n",
    "for i in range(5):\n",
    "  for j in range(50):\n",
    "    inputcolors[5*j+i] = colorfeatures[i, :]\n",
    "\n",
    "outputprob = prob.reshape(250)"
   ]
  },
  {
   "cell_type": "markdown",
   "metadata": {
    "colab_type": "text",
    "id": "Aqm4sK5LQRUs"
   },
   "source": [
    "## Model"
   ]
  },
  {
   "cell_type": "code",
   "execution_count": 7,
   "metadata": {
    "colab": {},
    "colab_type": "code",
    "executionInfo": {
     "elapsed": 40052,
     "status": "ok",
     "timestamp": 1599579759356,
     "user": {
      "displayName": "Shashi Kant",
      "photoUrl": "https://lh3.googleusercontent.com/a-/AOh14GiHv2woo7B1czb0XKsLBEOsgMWsuYITOryCdNNv7A=s64",
      "userId": "09783338171816410510"
     },
     "user_tz": -330
    },
    "id": "ZRZR9zFuO9-2"
   },
   "outputs": [],
   "source": [
    "def get_model(op_features=75):\n",
    "  imageinputs = keras.Input(shape=(features.shape[1]), name=\"imageinputs\")\n",
    "  colorinputs = keras.Input(shape=(features.shape[1]), name=\"colorinputs\")\n",
    "  dense = layers.Dense(op_features, name = \"linearlayer\", activation='relu')\n",
    "  imageresults = dense(imageinputs)\n",
    "  colorresults = dense(colorinputs)\n",
    "  result = tf.keras.layers.Dot(axes=1, normalize=True, name=\"dot\")([imageresults, colorresults])\n",
    "\n",
    "  model = keras.Model(\n",
    "      inputs=[imageinputs, colorinputs],\n",
    "      outputs=[result],\n",
    "  )\n",
    "  model.compile(loss = 'mean_squared_error', optimizer = tf.keras.optimizers.Adam(lr=0.001), metrics = ['mean_squared_error'])\n",
    "  \n",
    "  return model\n",
    "\n",
    "def get_corr(output, outputprob, vs, ve):\n",
    "  x = np.copy(output.reshape(50,5))\n",
    "\n",
    "  for i in range(50):\n",
    "    rowsum = np.sum(x[i,:])\n",
    "    for j in range(5):\n",
    "      x[i,j] = x[i,j]/rowsum\n",
    "\n",
    "  y = np.copy(outputprob.reshape(50,5))\n",
    "  testx = x.reshape(-1)[vs:ve]\n",
    "  testy = y.reshape(-1)[vs:ve]\n",
    "\n",
    "  return scipy.stats.pearsonr(testx, testy)[0], scipy.stats.pearsonr(testx, testy)[1], testx"
   ]
  },
  {
   "cell_type": "code",
   "execution_count": 8,
   "metadata": {
    "colab": {
     "base_uri": "https://localhost:8080/",
     "height": 66,
     "referenced_widgets": [
      "c3e64315b413418c886919bb3c1236e9",
      "1becd10f6d2f4364910c6edf88a0c023",
      "1e4b3bfa6c2d47559628b9d020db0ab4",
      "0b932908dc8d489b846a56e155b25c7b",
      "19f1943fae6a4949a862ee8be8a15420",
      "b51d42b703074804913f7d9dc384f878",
      "e6f067098ed44f87884af19bfe5d5e96",
      "c23adc269f594922bf944711caad17a4"
     ]
    },
    "colab_type": "code",
    "executionInfo": {
     "elapsed": 410713,
     "status": "ok",
     "timestamp": 1599580132953,
     "user": {
      "displayName": "Shashi Kant",
      "photoUrl": "https://lh3.googleusercontent.com/a-/AOh14GiHv2woo7B1czb0XKsLBEOsgMWsuYITOryCdNNv7A=s64",
      "userId": "09783338171816410510"
     },
     "user_tz": -330
    },
    "id": "ygMZBSStrMBV",
    "outputId": "3e2c1b20-d641-4251-ca0c-d9c30b14f992"
   },
   "outputs": [
    {
     "data": {
      "application/vnd.jupyter.widget-view+json": {
       "model_id": "c3e64315b413418c886919bb3c1236e9",
       "version_major": 2,
       "version_minor": 0
      },
      "text/plain": [
       "HBox(children=(FloatProgress(value=0.0, max=50.0), HTML(value='')))"
      ]
     },
     "metadata": {
      "tags": []
     },
     "output_type": "display_data"
    },
    {
     "name": "stdout",
     "output_type": "stream",
     "text": [
      "\n"
     ]
    }
   ],
   "source": [
    "Rp = []\n",
    "pvalue = []\n",
    "\n",
    "for i in tqdm(range(50)):\n",
    "  corr = [] #This contains correlation corresponding to specific validation data\n",
    "  pred = np.zeros(250) #This will contain the final prediction for each of the loop. Total 5 subset of validation 50 each.\n",
    "\n",
    "  # 5-fold cross validation \n",
    "  for vs in [0, 50, 100, 150, 200]:\n",
    "    ve = vs + 50\n",
    "    model = get_model(op_features=75)\n",
    "    history = model.fit(\n",
    "        {\"imageinputs\": inputimages[[*range(vs)] + [*range(ve, 250)]], \"colorinputs\": inputcolors[[*range(vs)] + [*range(ve, 250)]]},\n",
    "        {\"dot\": outputprob[[*range(vs)] + [*range(ve, 250)]]},\n",
    "        epochs=30,\n",
    "        batch_size=10,\n",
    "        shuffle=True,\n",
    "        verbose=0,\n",
    "    )\n",
    "    output = model.predict({\"imageinputs\": inputimages, \"colorinputs\": inputcolors})\n",
    "    R, _, pred[vs:ve] = get_corr(output, outputprob, vs, ve)\n",
    "    corr.append(R)\n",
    "\n",
    "  temp = get_corr(pred, outputprob, 0, 250)\n",
    "  Rp.append(temp[0])\n",
    "  pvalue.append(temp[1])"
   ]
  },
  {
   "cell_type": "code",
   "execution_count": 14,
   "metadata": {
    "colab": {
     "base_uri": "https://localhost:8080/",
     "height": 51
    },
    "colab_type": "code",
    "executionInfo": {
     "elapsed": 1408,
     "status": "ok",
     "timestamp": 1599580305842,
     "user": {
      "displayName": "Shashi Kant",
      "photoUrl": "https://lh3.googleusercontent.com/a-/AOh14GiHv2woo7B1czb0XKsLBEOsgMWsuYITOryCdNNv7A=s64",
      "userId": "09783338171816410510"
     },
     "user_tz": -330
    },
    "id": "_VfRgUs2UIKq",
    "outputId": "141e1529-c249-4fc0-be82-0d7b75655a2a"
   },
   "outputs": [
    {
     "name": "stdout",
     "output_type": "stream",
     "text": [
      "0.5688877301533616\n",
      "0.025721300786739548\n"
     ]
    }
   ],
   "source": [
    "print(np.mean(Rp))\n",
    "print(np.std(Rp))"
   ]
  },
  {
   "cell_type": "code",
   "execution_count": 10,
   "metadata": {
    "colab": {
     "base_uri": "https://localhost:8080/",
     "height": 867
    },
    "colab_type": "code",
    "executionInfo": {
     "elapsed": 404626,
     "status": "ok",
     "timestamp": 1599580132960,
     "user": {
      "displayName": "Shashi Kant",
      "photoUrl": "https://lh3.googleusercontent.com/a-/AOh14GiHv2woo7B1czb0XKsLBEOsgMWsuYITOryCdNNv7A=s64",
      "userId": "09783338171816410510"
     },
     "user_tz": -330
    },
    "id": "R7bCK8y_fXn2",
    "outputId": "10321d2a-dcc9-4792-e7fc-7f1b8f963d3b"
   },
   "outputs": [
    {
     "data": {
      "text/plain": [
       "[0.5678871220648656,\n",
       " 0.5843625052287875,\n",
       " 0.5367013274583408,\n",
       " 0.5629719983239322,\n",
       " 0.5844739128309859,\n",
       " 0.6183085982237303,\n",
       " 0.5275230673686596,\n",
       " 0.5502323892742733,\n",
       " 0.5773156961252721,\n",
       " 0.5782484920608505,\n",
       " 0.551967644341667,\n",
       " 0.5930547641638512,\n",
       " 0.5625405218212088,\n",
       " 0.6131187546209287,\n",
       " 0.5552739545029715,\n",
       " 0.5724250018172106,\n",
       " 0.5406556731601762,\n",
       " 0.589546484299729,\n",
       " 0.5316129337777218,\n",
       " 0.5717196817136381,\n",
       " 0.569209090216469,\n",
       " 0.5704746065623734,\n",
       " 0.6000046714942338,\n",
       " 0.54791838542263,\n",
       " 0.5896581791597094,\n",
       " 0.6027751936413038,\n",
       " 0.5479520616546383,\n",
       " 0.5680395504930701,\n",
       " 0.5670616474084492,\n",
       " 0.5641481907564933,\n",
       " 0.5205201251751295,\n",
       " 0.6126495470695481,\n",
       " 0.5686230257722199,\n",
       " 0.5788761997022143,\n",
       " 0.5736071449679842,\n",
       " 0.6181650422884976,\n",
       " 0.5389961907043898,\n",
       " 0.5899611384111466,\n",
       " 0.5789417936393054,\n",
       " 0.5567423398850271,\n",
       " 0.5227984984677638,\n",
       " 0.607933835831052,\n",
       " 0.5463465284486566,\n",
       " 0.6182718083609042,\n",
       " 0.5747161254297046,\n",
       " 0.5539016589351016,\n",
       " 0.5365754026865334,\n",
       " 0.5642998469327338,\n",
       " 0.5468230571590004,\n",
       " 0.5384550978129989]"
      ]
     },
     "execution_count": 10,
     "metadata": {
      "tags": []
     },
     "output_type": "execute_result"
    }
   ],
   "source": [
    "Rp"
   ]
  },
  {
   "cell_type": "code",
   "execution_count": 11,
   "metadata": {
    "colab": {
     "base_uri": "https://localhost:8080/",
     "height": 51
    },
    "colab_type": "code",
    "executionInfo": {
     "elapsed": 404292,
     "status": "ok",
     "timestamp": 1599580132961,
     "user": {
      "displayName": "Shashi Kant",
      "photoUrl": "https://lh3.googleusercontent.com/a-/AOh14GiHv2woo7B1czb0XKsLBEOsgMWsuYITOryCdNNv7A=s64",
      "userId": "09783338171816410510"
     },
     "user_tz": -330
    },
    "id": "LqlaIHSfg_gH",
    "outputId": "914dbd1e-1a8b-4823-cbb8-d6e708030202"
   },
   "outputs": [
    {
     "name": "stdout",
     "output_type": "stream",
     "text": [
      "4.2795910752022494e-20\n",
      "1.5683184574838671e-19\n"
     ]
    }
   ],
   "source": [
    "print(np.mean(pvalue))\n",
    "print(np.std(pvalue))"
   ]
  },
  {
   "cell_type": "code",
   "execution_count": null,
   "metadata": {
    "colab": {},
    "colab_type": "code",
    "id": "LOYeXNHQhACc"
   },
   "outputs": [],
   "source": []
  }
 ],
 "metadata": {
  "accelerator": "GPU",
  "colab": {
   "collapsed_sections": [],
   "name": "DenseNet169.ipynb",
   "provenance": [
    {
     "file_id": "1tveJ219EYVMLwbiPBUAMc1wD0sBPQH4g",
     "timestamp": 1599513973760
    },
    {
     "file_id": "1o0FxaUOCCc6jeP1tPY3D1R9F8slNYkRo",
     "timestamp": 1595668597586
    },
    {
     "file_id": "1UE_yDN7vICMTyp3wv4qOQxfoZYEpAE8f",
     "timestamp": 1595256575799
    }
   ]
  },
  "kernelspec": {
   "display_name": "Python 3",
   "language": "python",
   "name": "python3"
  },
  "language_info": {
   "codemirror_mode": {
    "name": "ipython",
    "version": 3
   },
   "file_extension": ".py",
   "mimetype": "text/x-python",
   "name": "python",
   "nbconvert_exporter": "python",
   "pygments_lexer": "ipython3",
   "version": "3.7.6"
  },
  "widgets": {
   "application/vnd.jupyter.widget-state+json": {
    "0b932908dc8d489b846a56e155b25c7b": {
     "model_module": "@jupyter-widgets/controls",
     "model_name": "HTMLModel",
     "state": {
      "_dom_classes": [],
      "_model_module": "@jupyter-widgets/controls",
      "_model_module_version": "1.5.0",
      "_model_name": "HTMLModel",
      "_view_count": null,
      "_view_module": "@jupyter-widgets/controls",
      "_view_module_version": "1.5.0",
      "_view_name": "HTMLView",
      "description": "",
      "description_tooltip": null,
      "layout": "IPY_MODEL_c23adc269f594922bf944711caad17a4",
      "placeholder": "​",
      "style": "IPY_MODEL_e6f067098ed44f87884af19bfe5d5e96",
      "value": " 50/50 [06:13&lt;00:00,  7.47s/it]"
     }
    },
    "19f1943fae6a4949a862ee8be8a15420": {
     "model_module": "@jupyter-widgets/controls",
     "model_name": "ProgressStyleModel",
     "state": {
      "_model_module": "@jupyter-widgets/controls",
      "_model_module_version": "1.5.0",
      "_model_name": "ProgressStyleModel",
      "_view_count": null,
      "_view_module": "@jupyter-widgets/base",
      "_view_module_version": "1.2.0",
      "_view_name": "StyleView",
      "bar_color": null,
      "description_width": "initial"
     }
    },
    "1becd10f6d2f4364910c6edf88a0c023": {
     "model_module": "@jupyter-widgets/base",
     "model_name": "LayoutModel",
     "state": {
      "_model_module": "@jupyter-widgets/base",
      "_model_module_version": "1.2.0",
      "_model_name": "LayoutModel",
      "_view_count": null,
      "_view_module": "@jupyter-widgets/base",
      "_view_module_version": "1.2.0",
      "_view_name": "LayoutView",
      "align_content": null,
      "align_items": null,
      "align_self": null,
      "border": null,
      "bottom": null,
      "display": null,
      "flex": null,
      "flex_flow": null,
      "grid_area": null,
      "grid_auto_columns": null,
      "grid_auto_flow": null,
      "grid_auto_rows": null,
      "grid_column": null,
      "grid_gap": null,
      "grid_row": null,
      "grid_template_areas": null,
      "grid_template_columns": null,
      "grid_template_rows": null,
      "height": null,
      "justify_content": null,
      "justify_items": null,
      "left": null,
      "margin": null,
      "max_height": null,
      "max_width": null,
      "min_height": null,
      "min_width": null,
      "object_fit": null,
      "object_position": null,
      "order": null,
      "overflow": null,
      "overflow_x": null,
      "overflow_y": null,
      "padding": null,
      "right": null,
      "top": null,
      "visibility": null,
      "width": null
     }
    },
    "1e4b3bfa6c2d47559628b9d020db0ab4": {
     "model_module": "@jupyter-widgets/controls",
     "model_name": "FloatProgressModel",
     "state": {
      "_dom_classes": [],
      "_model_module": "@jupyter-widgets/controls",
      "_model_module_version": "1.5.0",
      "_model_name": "FloatProgressModel",
      "_view_count": null,
      "_view_module": "@jupyter-widgets/controls",
      "_view_module_version": "1.5.0",
      "_view_name": "ProgressView",
      "bar_style": "success",
      "description": "100%",
      "description_tooltip": null,
      "layout": "IPY_MODEL_b51d42b703074804913f7d9dc384f878",
      "max": 50,
      "min": 0,
      "orientation": "horizontal",
      "style": "IPY_MODEL_19f1943fae6a4949a862ee8be8a15420",
      "value": 50
     }
    },
    "b51d42b703074804913f7d9dc384f878": {
     "model_module": "@jupyter-widgets/base",
     "model_name": "LayoutModel",
     "state": {
      "_model_module": "@jupyter-widgets/base",
      "_model_module_version": "1.2.0",
      "_model_name": "LayoutModel",
      "_view_count": null,
      "_view_module": "@jupyter-widgets/base",
      "_view_module_version": "1.2.0",
      "_view_name": "LayoutView",
      "align_content": null,
      "align_items": null,
      "align_self": null,
      "border": null,
      "bottom": null,
      "display": null,
      "flex": null,
      "flex_flow": null,
      "grid_area": null,
      "grid_auto_columns": null,
      "grid_auto_flow": null,
      "grid_auto_rows": null,
      "grid_column": null,
      "grid_gap": null,
      "grid_row": null,
      "grid_template_areas": null,
      "grid_template_columns": null,
      "grid_template_rows": null,
      "height": null,
      "justify_content": null,
      "justify_items": null,
      "left": null,
      "margin": null,
      "max_height": null,
      "max_width": null,
      "min_height": null,
      "min_width": null,
      "object_fit": null,
      "object_position": null,
      "order": null,
      "overflow": null,
      "overflow_x": null,
      "overflow_y": null,
      "padding": null,
      "right": null,
      "top": null,
      "visibility": null,
      "width": null
     }
    },
    "c23adc269f594922bf944711caad17a4": {
     "model_module": "@jupyter-widgets/base",
     "model_name": "LayoutModel",
     "state": {
      "_model_module": "@jupyter-widgets/base",
      "_model_module_version": "1.2.0",
      "_model_name": "LayoutModel",
      "_view_count": null,
      "_view_module": "@jupyter-widgets/base",
      "_view_module_version": "1.2.0",
      "_view_name": "LayoutView",
      "align_content": null,
      "align_items": null,
      "align_self": null,
      "border": null,
      "bottom": null,
      "display": null,
      "flex": null,
      "flex_flow": null,
      "grid_area": null,
      "grid_auto_columns": null,
      "grid_auto_flow": null,
      "grid_auto_rows": null,
      "grid_column": null,
      "grid_gap": null,
      "grid_row": null,
      "grid_template_areas": null,
      "grid_template_columns": null,
      "grid_template_rows": null,
      "height": null,
      "justify_content": null,
      "justify_items": null,
      "left": null,
      "margin": null,
      "max_height": null,
      "max_width": null,
      "min_height": null,
      "min_width": null,
      "object_fit": null,
      "object_position": null,
      "order": null,
      "overflow": null,
      "overflow_x": null,
      "overflow_y": null,
      "padding": null,
      "right": null,
      "top": null,
      "visibility": null,
      "width": null
     }
    },
    "c3e64315b413418c886919bb3c1236e9": {
     "model_module": "@jupyter-widgets/controls",
     "model_name": "HBoxModel",
     "state": {
      "_dom_classes": [],
      "_model_module": "@jupyter-widgets/controls",
      "_model_module_version": "1.5.0",
      "_model_name": "HBoxModel",
      "_view_count": null,
      "_view_module": "@jupyter-widgets/controls",
      "_view_module_version": "1.5.0",
      "_view_name": "HBoxView",
      "box_style": "",
      "children": [
       "IPY_MODEL_1e4b3bfa6c2d47559628b9d020db0ab4",
       "IPY_MODEL_0b932908dc8d489b846a56e155b25c7b"
      ],
      "layout": "IPY_MODEL_1becd10f6d2f4364910c6edf88a0c023"
     }
    },
    "e6f067098ed44f87884af19bfe5d5e96": {
     "model_module": "@jupyter-widgets/controls",
     "model_name": "DescriptionStyleModel",
     "state": {
      "_model_module": "@jupyter-widgets/controls",
      "_model_module_version": "1.5.0",
      "_model_name": "DescriptionStyleModel",
      "_view_count": null,
      "_view_module": "@jupyter-widgets/base",
      "_view_module_version": "1.2.0",
      "_view_name": "StyleView",
      "description_width": ""
     }
    }
   }
  }
 },
 "nbformat": 4,
 "nbformat_minor": 1
}
