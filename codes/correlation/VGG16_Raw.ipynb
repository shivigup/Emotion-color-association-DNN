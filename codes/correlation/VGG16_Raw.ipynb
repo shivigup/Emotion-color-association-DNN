{
 "cells": [
  {
   "cell_type": "code",
   "execution_count": 3,
   "metadata": {
    "colab": {},
    "colab_type": "code",
    "executionInfo": {
     "elapsed": 3170,
     "status": "ok",
     "timestamp": 1599651202410,
     "user": {
      "displayName": "Shashi Kant",
      "photoUrl": "https://lh3.googleusercontent.com/a-/AOh14GiHv2woo7B1czb0XKsLBEOsgMWsuYITOryCdNNv7A=s64",
      "userId": "09783338171816410510"
     },
     "user_tz": -330
    },
    "id": "KVpizesFCowb"
   },
   "outputs": [],
   "source": [
    "import numpy as np\n",
    "import tensorflow as tf\n",
    "import scipy\n",
    "from tensorflow import keras\n",
    "from tensorflow.keras import layers\n",
    "\n",
    "from keras.preprocessing.image import load_img\n",
    "from keras.preprocessing.image import img_to_array\n",
    "\n",
    "from tensorflow.keras.applications.vgg16 import VGG16\n",
    "from keras.applications.vgg16 import preprocess_input\n",
    "\n",
    "import matplotlib.pyplot as plt\n",
    "from scipy import stats\n",
    "\n",
    "from tqdm.notebook import tqdm"
   ]
  },
  {
   "cell_type": "markdown",
   "metadata": {
    "colab_type": "text",
    "id": "f4U93p9iqX_6"
   },
   "source": [
    "## Extracting features from VGG16"
   ]
  },
  {
   "cell_type": "code",
   "execution_count": 4,
   "metadata": {
    "colab": {
     "base_uri": "https://localhost:8080/",
     "height": 969
    },
    "colab_type": "code",
    "executionInfo": {
     "elapsed": 22744,
     "status": "ok",
     "timestamp": 1599651222912,
     "user": {
      "displayName": "Shashi Kant",
      "photoUrl": "https://lh3.googleusercontent.com/a-/AOh14GiHv2woo7B1czb0XKsLBEOsgMWsuYITOryCdNNv7A=s64",
      "userId": "09783338171816410510"
     },
     "user_tz": -330
    },
    "id": "1M4GZzmBk2XJ",
    "outputId": "d22fc9eb-ae9e-43ff-dcc0-8ea4ac14a82c"
   },
   "outputs": [
    {
     "name": "stdout",
     "output_type": "stream",
     "text": [
      "Downloading data from https://storage.googleapis.com/tensorflow/keras-applications/vgg16/vgg16_weights_tf_dim_ordering_tf_kernels.h5\n",
      "553467904/553467096 [==============================] - 13s 0us/step\n",
      "Model: \"vgg16\"\n",
      "_________________________________________________________________\n",
      "Layer (type)                 Output Shape              Param #   \n",
      "=================================================================\n",
      "input_1 (InputLayer)         [(None, 224, 224, 3)]     0         \n",
      "_________________________________________________________________\n",
      "block1_conv1 (Conv2D)        (None, 224, 224, 64)      1792      \n",
      "_________________________________________________________________\n",
      "block1_conv2 (Conv2D)        (None, 224, 224, 64)      36928     \n",
      "_________________________________________________________________\n",
      "block1_pool (MaxPooling2D)   (None, 112, 112, 64)      0         \n",
      "_________________________________________________________________\n",
      "block2_conv1 (Conv2D)        (None, 112, 112, 128)     73856     \n",
      "_________________________________________________________________\n",
      "block2_conv2 (Conv2D)        (None, 112, 112, 128)     147584    \n",
      "_________________________________________________________________\n",
      "block2_pool (MaxPooling2D)   (None, 56, 56, 128)       0         \n",
      "_________________________________________________________________\n",
      "block3_conv1 (Conv2D)        (None, 56, 56, 256)       295168    \n",
      "_________________________________________________________________\n",
      "block3_conv2 (Conv2D)        (None, 56, 56, 256)       590080    \n",
      "_________________________________________________________________\n",
      "block3_conv3 (Conv2D)        (None, 56, 56, 256)       590080    \n",
      "_________________________________________________________________\n",
      "block3_pool (MaxPooling2D)   (None, 28, 28, 256)       0         \n",
      "_________________________________________________________________\n",
      "block4_conv1 (Conv2D)        (None, 28, 28, 512)       1180160   \n",
      "_________________________________________________________________\n",
      "block4_conv2 (Conv2D)        (None, 28, 28, 512)       2359808   \n",
      "_________________________________________________________________\n",
      "block4_conv3 (Conv2D)        (None, 28, 28, 512)       2359808   \n",
      "_________________________________________________________________\n",
      "block4_pool (MaxPooling2D)   (None, 14, 14, 512)       0         \n",
      "_________________________________________________________________\n",
      "block5_conv1 (Conv2D)        (None, 14, 14, 512)       2359808   \n",
      "_________________________________________________________________\n",
      "block5_conv2 (Conv2D)        (None, 14, 14, 512)       2359808   \n",
      "_________________________________________________________________\n",
      "block5_conv3 (Conv2D)        (None, 14, 14, 512)       2359808   \n",
      "_________________________________________________________________\n",
      "block5_pool (MaxPooling2D)   (None, 7, 7, 512)         0         \n",
      "_________________________________________________________________\n",
      "flatten (Flatten)            (None, 25088)             0         \n",
      "_________________________________________________________________\n",
      "fc1 (Dense)                  (None, 4096)              102764544 \n",
      "_________________________________________________________________\n",
      "fc2 (Dense)                  (None, 4096)              16781312  \n",
      "_________________________________________________________________\n",
      "predictions (Dense)          (None, 1000)              4097000   \n",
      "=================================================================\n",
      "Total params: 138,357,544\n",
      "Trainable params: 138,357,544\n",
      "Non-trainable params: 0\n",
      "_________________________________________________________________\n"
     ]
    }
   ],
   "source": [
    "img_size = 224\n",
    "vgg16 = VGG16(weights='imagenet', include_top=True, pooling='max', input_shape = (img_size, img_size, 3))\n",
    "vgg16.summary()"
   ]
  },
  {
   "cell_type": "code",
   "execution_count": 7,
   "metadata": {
    "colab": {
     "base_uri": "https://localhost:8080/",
     "height": 236,
     "referenced_widgets": [
      "b583bd7141594732a6d7aed70bc21f65",
      "2eb50adf22e04930a58dac7f7c316c09",
      "96a139a5362c4822987adf8a138cc9a9",
      "6c9ca13a54ef4c27926556d52557112e",
      "bfdb2d9cc4b54d35a73c9b0227aec051",
      "fe23cb77207e4e2d93592b18a89bbd6b",
      "cbb13adce70248889173f11e10ec89f6",
      "735ae9adf5ad44009f704fd99b0b1457"
     ]
    },
    "colab_type": "code",
    "executionInfo": {
     "elapsed": 112408,
     "status": "ok",
     "timestamp": 1599651629776,
     "user": {
      "displayName": "Shashi Kant",
      "photoUrl": "https://lh3.googleusercontent.com/a-/AOh14GiHv2woo7B1czb0XKsLBEOsgMWsuYITOryCdNNv7A=s64",
      "userId": "09783338171816410510"
     },
     "user_tz": -330
    },
    "id": "xFFpLJ4FNLY9",
    "outputId": "1d1e1a6f-426d-4d66-b337-9e28c45fa994"
   },
   "outputs": [
    {
     "data": {
      "application/vnd.jupyter.widget-view+json": {
       "model_id": "b583bd7141594732a6d7aed70bc21f65",
       "version_major": 2,
       "version_minor": 0
      },
      "text/plain": [
       "HBox(children=(FloatProgress(value=0.0, max=5.0), HTML(value='')))"
      ]
     },
     "metadata": {
      "tags": []
     },
     "output_type": "display_data"
    },
    {
     "name": "stdout",
     "output_type": "stream",
     "text": [
      "block3_pool 0.17 0.0\n",
      "\n",
      "block4_pool 0.3 0.0\n",
      "\n",
      "block5_pool 0.32 0.0\n",
      "\n",
      "fc1 0.29 0.0\n",
      "\n",
      "fc2 0.33 0.0\n",
      "\n",
      "\n"
     ]
    }
   ],
   "source": [
    " for out_layer_name in tqdm(['block3_pool', 'block4_pool', 'block5_pool', 'fc1', 'fc2']):\n",
    "  op = vgg16.get_layer(out_layer_name).output\n",
    "  ip = vgg16.input\n",
    "\n",
    "  basemodel = keras.Model(\n",
    "      inputs=ip,\n",
    "      outputs=op,\n",
    "  )\n",
    "\n",
    "  basemodel.trainable=False\n",
    "\n",
    "  images = np.empty((50, img_size, img_size, 3))\n",
    "  for i in range(50):\n",
    "    image = load_img(\"data/\" + str(i+1) +\".jpg\", target_size=(img_size, img_size))\n",
    "    image = img_to_array(image)\n",
    "\n",
    "    for j in range(img_size):\n",
    "      for k in range(img_size):\n",
    "        g = (image[j,k,0] + image[j,k,1] + image[j,k,2])/3\n",
    "        image[j,k,0] = g\n",
    "        image[j,k,1] = g\n",
    "        image[j,k,2] = g\n",
    "\n",
    "    images[i,:,:,:] = image\n",
    "\n",
    "  images = preprocess_input(images)\n",
    "  features = basemodel.predict(images)\n",
    "\n",
    "  colors = np.empty((5, img_size, img_size, 3))\n",
    "  for i in range(5):\n",
    "    image = load_img(\"data/C\" + str(i) + \".png\", target_size=(img_size, img_size))\n",
    "    image = img_to_array(image)\n",
    "    colors[i,:,:,:] = image\n",
    "\n",
    "  colors = preprocess_input(colors)\n",
    "  colorfeatures = basemodel.predict(colors)\n",
    "\n",
    "  features = features.reshape(50,-1)\n",
    "  colorfeatures = colorfeatures.reshape(5,-1)\n",
    "\n",
    "  data = np.genfromtxt('data/bandw.csv', skip_header = 6, delimiter=',')\n",
    "  humanpred = np.zeros((50,5))\n",
    "  for i in range(50):\n",
    "    for j in range(56):\n",
    "      color = int(data[j, i]);\n",
    "      humanpred[i, color] = humanpred[i, color]+1\n",
    "\n",
    "  prob = humanpred/56\n",
    "\n",
    "  inputimages = np.zeros((250,features.shape[1]))\n",
    "  inputcolors = np.zeros((250,features.shape[1]))\n",
    "  outputprob = np.zeros((250))\n",
    "\n",
    "  for i in range(50):\n",
    "    for j in range(5):\n",
    "      inputimages[5*i+j,:] = features[i,:]\n",
    "\n",
    "  for i in range(5):\n",
    "    for j in range(50):\n",
    "      inputcolors[5*j+i] = colorfeatures[i, :]\n",
    "\n",
    "  outputprob = prob.reshape(250)\n",
    "\n",
    "  del features\n",
    "  del colorfeatures\n",
    "  del images\n",
    "\n",
    "  def get_model(op_features=75):\n",
    "    imageinputs = keras.Input(shape=(inputimages.shape[1]), name=\"imageinputs\")\n",
    "    colorinputs = keras.Input(shape=(inputimages.shape[1]), name=\"colorinputs\")\n",
    "    result = tf.keras.layers.Dot(axes=1, normalize=True, name=\"dot\")([imageinputs, colorinputs])\n",
    "\n",
    "    model = keras.Model(\n",
    "        inputs=[imageinputs, colorinputs],\n",
    "        outputs=[result],\n",
    "    )\n",
    "    model.compile(loss = 'mean_squared_error', optimizer = tf.keras.optimizers.Adam(lr=0.001), metrics = ['mean_squared_error'])\n",
    "    \n",
    "    return model\n",
    "\n",
    "  def get_corr(output, outputprob, vs, ve):\n",
    "    x = np.copy(output.reshape(50,5))\n",
    "\n",
    "    for i in range(50):\n",
    "      rowsum = np.sum(x[i,:])\n",
    "      for j in range(5):\n",
    "        x[i,j] = x[i,j]/rowsum\n",
    "\n",
    "    y = np.copy(outputprob.reshape(50,5))\n",
    "    testx = x.reshape(-1)[vs:ve]\n",
    "    testy = y.reshape(-1)[vs:ve]\n",
    "\n",
    "    return scipy.stats.pearsonr(testx, testy)[0], scipy.stats.pearsonr(testx, testy)[1], testx\n",
    "\n",
    "  Rp = []\n",
    "  pvalue = []\n",
    "\n",
    "  for i in range(1):\n",
    "    corr = [] #This contains correlation corresponding to specific validation data\n",
    "    pred = np.zeros(250) #This will contain the final prediction for each of the loop. Total 5 subset of validation 50 each.\n",
    "\n",
    "    # 5-fold cross validation \n",
    "    for vs in [0, 50, 100, 150, 200]:\n",
    "      ve = vs + 50\n",
    "      model = get_model(op_features=75)\n",
    "      history = model.fit(\n",
    "          {\"imageinputs\": inputimages[[*range(vs)] + [*range(ve, 250)]], \"colorinputs\": inputcolors[[*range(vs)] + [*range(ve, 250)]]},\n",
    "          {\"dot\": outputprob[[*range(vs)] + [*range(ve, 250)]]},\n",
    "          epochs=30,\n",
    "          batch_size=10,\n",
    "          shuffle=True,\n",
    "          verbose=0,\n",
    "      )\n",
    "      output = model.predict({\"imageinputs\": inputimages, \"colorinputs\": inputcolors})\n",
    "      R, _, pred[vs:ve] = get_corr(output, outputprob, vs, ve)\n",
    "      corr.append(R)\n",
    "      del model\n",
    "\n",
    "    temp = get_corr(pred, outputprob, 0, 250)\n",
    "    Rp.append(temp[0])\n",
    "    pvalue.append(temp[1])\n",
    "\n",
    "  print(out_layer_name, round(np.mean(Rp), 2), round(np.std(Rp), 2))\n",
    "  print()"
   ]
  },
  {
   "cell_type": "code",
   "execution_count": null,
   "metadata": {
    "colab": {},
    "colab_type": "code",
    "id": "fTTPN19ArsP-"
   },
   "outputs": [],
   "source": []
  }
 ],
 "metadata": {
  "accelerator": "GPU",
  "colab": {
   "collapsed_sections": [],
   "name": "VGG16_Raw.ipynb",
   "provenance": [
    {
     "file_id": "1tveJ219EYVMLwbiPBUAMc1wD0sBPQH4g",
     "timestamp": 1599513973760
    },
    {
     "file_id": "1o0FxaUOCCc6jeP1tPY3D1R9F8slNYkRo",
     "timestamp": 1595668597586
    },
    {
     "file_id": "1UE_yDN7vICMTyp3wv4qOQxfoZYEpAE8f",
     "timestamp": 1595256575799
    }
   ]
  },
  "kernelspec": {
   "display_name": "Python 3",
   "language": "python",
   "name": "python3"
  },
  "language_info": {
   "codemirror_mode": {
    "name": "ipython",
    "version": 3
   },
   "file_extension": ".py",
   "mimetype": "text/x-python",
   "name": "python",
   "nbconvert_exporter": "python",
   "pygments_lexer": "ipython3",
   "version": "3.7.4"
  },
  "widgets": {
   "application/vnd.jupyter.widget-state+json": {
    "2eb50adf22e04930a58dac7f7c316c09": {
     "model_module": "@jupyter-widgets/base",
     "model_name": "LayoutModel",
     "state": {
      "_model_module": "@jupyter-widgets/base",
      "_model_module_version": "1.2.0",
      "_model_name": "LayoutModel",
      "_view_count": null,
      "_view_module": "@jupyter-widgets/base",
      "_view_module_version": "1.2.0",
      "_view_name": "LayoutView",
      "align_content": null,
      "align_items": null,
      "align_self": null,
      "border": null,
      "bottom": null,
      "display": null,
      "flex": null,
      "flex_flow": null,
      "grid_area": null,
      "grid_auto_columns": null,
      "grid_auto_flow": null,
      "grid_auto_rows": null,
      "grid_column": null,
      "grid_gap": null,
      "grid_row": null,
      "grid_template_areas": null,
      "grid_template_columns": null,
      "grid_template_rows": null,
      "height": null,
      "justify_content": null,
      "justify_items": null,
      "left": null,
      "margin": null,
      "max_height": null,
      "max_width": null,
      "min_height": null,
      "min_width": null,
      "object_fit": null,
      "object_position": null,
      "order": null,
      "overflow": null,
      "overflow_x": null,
      "overflow_y": null,
      "padding": null,
      "right": null,
      "top": null,
      "visibility": null,
      "width": null
     }
    },
    "6c9ca13a54ef4c27926556d52557112e": {
     "model_module": "@jupyter-widgets/controls",
     "model_name": "HTMLModel",
     "state": {
      "_dom_classes": [],
      "_model_module": "@jupyter-widgets/controls",
      "_model_module_version": "1.5.0",
      "_model_name": "HTMLModel",
      "_view_count": null,
      "_view_module": "@jupyter-widgets/controls",
      "_view_module_version": "1.5.0",
      "_view_name": "HTMLView",
      "description": "",
      "description_tooltip": null,
      "layout": "IPY_MODEL_735ae9adf5ad44009f704fd99b0b1457",
      "placeholder": "​",
      "style": "IPY_MODEL_cbb13adce70248889173f11e10ec89f6",
      "value": " 5/5 [01:50&lt;00:00, 22.05s/it]"
     }
    },
    "735ae9adf5ad44009f704fd99b0b1457": {
     "model_module": "@jupyter-widgets/base",
     "model_name": "LayoutModel",
     "state": {
      "_model_module": "@jupyter-widgets/base",
      "_model_module_version": "1.2.0",
      "_model_name": "LayoutModel",
      "_view_count": null,
      "_view_module": "@jupyter-widgets/base",
      "_view_module_version": "1.2.0",
      "_view_name": "LayoutView",
      "align_content": null,
      "align_items": null,
      "align_self": null,
      "border": null,
      "bottom": null,
      "display": null,
      "flex": null,
      "flex_flow": null,
      "grid_area": null,
      "grid_auto_columns": null,
      "grid_auto_flow": null,
      "grid_auto_rows": null,
      "grid_column": null,
      "grid_gap": null,
      "grid_row": null,
      "grid_template_areas": null,
      "grid_template_columns": null,
      "grid_template_rows": null,
      "height": null,
      "justify_content": null,
      "justify_items": null,
      "left": null,
      "margin": null,
      "max_height": null,
      "max_width": null,
      "min_height": null,
      "min_width": null,
      "object_fit": null,
      "object_position": null,
      "order": null,
      "overflow": null,
      "overflow_x": null,
      "overflow_y": null,
      "padding": null,
      "right": null,
      "top": null,
      "visibility": null,
      "width": null
     }
    },
    "96a139a5362c4822987adf8a138cc9a9": {
     "model_module": "@jupyter-widgets/controls",
     "model_name": "FloatProgressModel",
     "state": {
      "_dom_classes": [],
      "_model_module": "@jupyter-widgets/controls",
      "_model_module_version": "1.5.0",
      "_model_name": "FloatProgressModel",
      "_view_count": null,
      "_view_module": "@jupyter-widgets/controls",
      "_view_module_version": "1.5.0",
      "_view_name": "ProgressView",
      "bar_style": "success",
      "description": "100%",
      "description_tooltip": null,
      "layout": "IPY_MODEL_fe23cb77207e4e2d93592b18a89bbd6b",
      "max": 5,
      "min": 0,
      "orientation": "horizontal",
      "style": "IPY_MODEL_bfdb2d9cc4b54d35a73c9b0227aec051",
      "value": 5
     }
    },
    "b583bd7141594732a6d7aed70bc21f65": {
     "model_module": "@jupyter-widgets/controls",
     "model_name": "HBoxModel",
     "state": {
      "_dom_classes": [],
      "_model_module": "@jupyter-widgets/controls",
      "_model_module_version": "1.5.0",
      "_model_name": "HBoxModel",
      "_view_count": null,
      "_view_module": "@jupyter-widgets/controls",
      "_view_module_version": "1.5.0",
      "_view_name": "HBoxView",
      "box_style": "",
      "children": [
       "IPY_MODEL_96a139a5362c4822987adf8a138cc9a9",
       "IPY_MODEL_6c9ca13a54ef4c27926556d52557112e"
      ],
      "layout": "IPY_MODEL_2eb50adf22e04930a58dac7f7c316c09"
     }
    },
    "bfdb2d9cc4b54d35a73c9b0227aec051": {
     "model_module": "@jupyter-widgets/controls",
     "model_name": "ProgressStyleModel",
     "state": {
      "_model_module": "@jupyter-widgets/controls",
      "_model_module_version": "1.5.0",
      "_model_name": "ProgressStyleModel",
      "_view_count": null,
      "_view_module": "@jupyter-widgets/base",
      "_view_module_version": "1.2.0",
      "_view_name": "StyleView",
      "bar_color": null,
      "description_width": "initial"
     }
    },
    "cbb13adce70248889173f11e10ec89f6": {
     "model_module": "@jupyter-widgets/controls",
     "model_name": "DescriptionStyleModel",
     "state": {
      "_model_module": "@jupyter-widgets/controls",
      "_model_module_version": "1.5.0",
      "_model_name": "DescriptionStyleModel",
      "_view_count": null,
      "_view_module": "@jupyter-widgets/base",
      "_view_module_version": "1.2.0",
      "_view_name": "StyleView",
      "description_width": ""
     }
    },
    "fe23cb77207e4e2d93592b18a89bbd6b": {
     "model_module": "@jupyter-widgets/base",
     "model_name": "LayoutModel",
     "state": {
      "_model_module": "@jupyter-widgets/base",
      "_model_module_version": "1.2.0",
      "_model_name": "LayoutModel",
      "_view_count": null,
      "_view_module": "@jupyter-widgets/base",
      "_view_module_version": "1.2.0",
      "_view_name": "LayoutView",
      "align_content": null,
      "align_items": null,
      "align_self": null,
      "border": null,
      "bottom": null,
      "display": null,
      "flex": null,
      "flex_flow": null,
      "grid_area": null,
      "grid_auto_columns": null,
      "grid_auto_flow": null,
      "grid_auto_rows": null,
      "grid_column": null,
      "grid_gap": null,
      "grid_row": null,
      "grid_template_areas": null,
      "grid_template_columns": null,
      "grid_template_rows": null,
      "height": null,
      "justify_content": null,
      "justify_items": null,
      "left": null,
      "margin": null,
      "max_height": null,
      "max_width": null,
      "min_height": null,
      "min_width": null,
      "object_fit": null,
      "object_position": null,
      "order": null,
      "overflow": null,
      "overflow_x": null,
      "overflow_y": null,
      "padding": null,
      "right": null,
      "top": null,
      "visibility": null,
      "width": null
     }
    }
   }
  }
 },
 "nbformat": 4,
 "nbformat_minor": 1
}
